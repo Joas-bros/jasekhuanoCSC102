{
 "cells": [
  {
   "cell_type": "markdown",
   "metadata": {},
   "source": [
    "# Encapsulation in Python"
   ]
  },
  {
   "cell_type": "markdown",
   "metadata": {},
   "source": [
    "<ul><li>Encapsulation is the concept of bundling data and methods within a single unit. For example, when you create a class, it means you are implementing encapsulation. A class is an example of encapsulation as it binds all the data members (instance variables) and methods into a single unit.</li><li>\n",
    "\n",
    "Using encapsulation, we can hide an object’s internal representation from the outside. This is called information hiding.</li><li>\n",
    "\n",
    "Encapsulation allows us to restrict accessing variables and methods directly and prevent accidental data modification by creating private data members and methods within a class.</li><li>\n",
    "\n",
    "Encapsulation is a way to restrict access to methods and variables from outside of class. Whenever working with the class and dealing with sensitive data, providing access to all variables used within the class is not a good choice.</li></ul>"
   ]
  },
  {
   "cell_type": "code",
   "execution_count": 30,
   "metadata": {},
   "outputs": [
    {
     "name": "stdout",
     "output_type": "stream",
     "text": [
      "Enter your name: ji\n",
      "How much do you earn: 2\n",
      "What project are you working on: 23e\n",
      "\n",
      "Name: ji \n",
      "Salary: N2\n",
      "ji is working on 23e\n"
     ]
    }
   ],
   "source": [
    "# A program that displays employees information\n",
    "\n",
    "class Employee:\n",
    "    \n",
    "    # constructor\n",
    "    def __init__(self, name, salary, project):        \n",
    "        # instance variables\n",
    "        self.name = name\n",
    "        self.salary = salary\n",
    "        self._project = project\n",
    "\n",
    "    # method to display employee's details\n",
    "    def show(self):        \n",
    "        # accessing public instance variables\n",
    "        print(\"\\nName:\", self.name, '\\nSalary:', \"N{}\".format(self.salary))\n",
    "\n",
    "    # method\n",
    "    def work(self):\n",
    "        print(self.name, 'is working on', self._project)\n",
    "\n",
    "\n",
    "name = input(\"Enter your name: \")\n",
    "salary = int(input(\"How much do you earn: \"))\n",
    "project = input(\"What project are you working on: \")\n",
    "\n",
    "# creating object of a class\n",
    "emp = Employee(name, salary, project)\n",
    "\n",
    "# calling public method of the class\n",
    "emp.show()\n",
    "emp.work()\n"
   ]
  },
  {
   "cell_type": "markdown",
   "metadata": {},
   "source": [
    "## Access Modifiers in Python"
   ]
  },
  {
   "cell_type": "markdown",
   "metadata": {},
   "source": [
    "<ul><li>Encapsulation can be achieved by declaring the data members and methods of a class either as private or protected.</li><li> In Python, there is no direct access modifiers like public, private, and protected. </li><li>This can achieve by using single underscore and double underscores.</li></ul>\n",
    "\n",
    "Access modifiers limit access to the variables and methods of a class. Python provides three types of access modifiers private, public, and protected.\n",
    "\n",
    "<ul><li><b>Public Instance Variable:</b> Accessible anywhere from outside oclass.</li><li>\n",
    "    <b>Private Instance Variable:</b> Accessible within the class.</li><li>\n",
    "    <b>Protected Instance Variable:</b> Accessible within the class and its sub-classes.</li></ul>"
   ]
  },
  {
   "cell_type": "markdown",
   "metadata": {},
   "source": [
    "### Public Instance Variable\n",
    "Public instance variables are accessible within and outside of a class. All member variables of the class are by default public."
   ]
  },
  {
   "cell_type": "code",
   "execution_count": 14,
   "metadata": {},
   "outputs": [
    {
     "name": "stdout",
     "output_type": "stream",
     "text": [
      "Enter your name: joj \n",
      "Enter your salary: 23\n",
      "Name: joj  Salary: N23\n",
      "Name: joj  Salary: N23\n"
     ]
    }
   ],
   "source": [
    "class Employee:\n",
    "    \n",
    "    # constructor\n",
    "    def __init__(self, name, salary):        \n",
    "        # public instance variables\n",
    "        self.name = name\n",
    "        self.salary = salary\n",
    "\n",
    "    # public instance methods\n",
    "    def show(self):\n",
    "        # accessing public instance variables\n",
    "        print(\"Name:\", self.name, 'Salary:', \"N{}\".format(self.salary))\n",
    "\n",
    "# input name and salary\n",
    "name = input(\"Enter your name: \")\n",
    "salary = int(input(\"Enter your salary: \"))\n",
    "\n",
    "# creating object of a class\n",
    "emp = Employee(name, salary)\n",
    "\n",
    "# accessing public instance variables\n",
    "print(\"Name:\", emp.name, 'Salary:', \"N{}\".format(emp.salary))\n",
    "\n",
    "# calling public method of the class\n",
    "emp.show()\n"
   ]
  },
  {
   "cell_type": "markdown",
   "metadata": {},
   "source": [
    "### Private Instance Variable\n",
    "<ul><li>Protect variables in the class by marking them private. To define a private variable add two underscores as a prefix at the start of a variable name.</li><li>\n",
    "\n",
    "Private instance variables are accessible only within the class, and we can’t access them directly from the class objects.</li></ul>"
   ]
  },
  {
   "cell_type": "code",
   "execution_count": 18,
   "metadata": {},
   "outputs": [
    {
     "name": "stdout",
     "output_type": "stream",
     "text": [
      "Name:  Lemuel Otu\n",
      "Salary: 10000\n"
     ]
    }
   ],
   "source": [
    "class Employee:\n",
    "    \n",
    "    # constructor\n",
    "    def __init__(self, name, salary):        \n",
    "        # public instance variable\n",
    "        self.name = name\n",
    "        \n",
    "        # private variable\n",
    "        self.__salary = salary\n",
    "\n",
    "# creating object of a class\n",
    "emp = Employee('Lemuel Otu', 10000)\n",
    "\n",
    "# accessing public instance variables\n",
    "print(\"Name: \", emp.name)\n",
    "\n",
    "# accessing private instance variable\n",
    "print('Salary:', emp._Employee__salary)"
   ]
  },
  {
   "cell_type": "markdown",
   "metadata": {},
   "source": [
    "To access private members from outside of a class using the following two approaches\n",
    "\n",
    "<ul><li>Create public method to access private members</li><li>\n",
    "Use name mangling</li></ul>"
   ]
  },
  {
   "cell_type": "markdown",
   "metadata": {},
   "source": [
    "#### Access Private member outside of a class using an instance method"
   ]
  },
  {
   "cell_type": "code",
   "execution_count": 21,
   "metadata": {},
   "outputs": [
    {
     "name": "stdout",
     "output_type": "stream",
     "text": [
      "Name:  Clinton Okpara \n",
      "Salary: 250000\n"
     ]
    }
   ],
   "source": [
    "class Employee:\n",
    "    \n",
    "    # constructor\n",
    "    def __init__(self, name, salary):        \n",
    "        # public data member\n",
    "        self.name = name\n",
    "        \n",
    "        # private member\n",
    "        self.__salary = salary\n",
    "\n",
    "    # public instance methods\n",
    "    def show(self):\n",
    "        # private members are accessible from a class\n",
    "        print(\"Name: \", self.name, '\\nSalary:', self.__salary)\n",
    "\n",
    "# creating object of a class\n",
    "emp = Employee('Clinton Okpara', 250000)\n",
    "\n",
    "# calling public method of the class\n",
    "emp.show()"
   ]
  },
  {
   "cell_type": "markdown",
   "metadata": {},
   "source": [
    "#### Name Mangling to access private members\n",
    "<ul><li>Private and protected variables can be directly accessed from outside of a class through name mangling.</li><li> The name mangling is created on an identifier by adding two leading underscores and one trailing underscore, like this <b>_classname__dataMember</b>, where <b><i>classname</i></b> is the current class, and data member is the private variable name.</li></ul>"
   ]
  },
  {
   "cell_type": "code",
   "execution_count": 26,
   "metadata": {},
   "outputs": [
    {
     "name": "stdout",
     "output_type": "stream",
     "text": [
      "Name: Mardiyyah Apampa\n",
      "Salary:  N900000\n"
     ]
    }
   ],
   "source": [
    "class Employee:\n",
    "    # constructor\n",
    "    def __init__(self, name, salary):\n",
    "        # public instance variable\n",
    "        self.name = name\n",
    "        \n",
    "        # private variable\n",
    "        self.__salary = salary\n",
    "\n",
    "# creating object of a class\n",
    "emp = Employee('Mardiyyah Apampa', 900000)\n",
    "\n",
    "#direct access to public instance variable\n",
    "print('Name:', emp.name)\n",
    "\n",
    "# direct access to private instance variable using name mangling\n",
    "print(f\"Salary:  N{emp._Employee__salary}\")"
   ]
  },
  {
   "cell_type": "markdown",
   "metadata": {},
   "source": [
    "### Protected Instance Variable\n",
    "<ul><li>Protected instance variables are accessible within the class and also available to its sub-classes. </li><li>To define a protected variable, prefix the variable name with a single underscore <b>_</b>.</li><li>\n",
    "\n",
    "Protected instance variables are used when you implement inheritance and want to allow data members access to only child classes.</li></ul>"
   ]
  },
  {
   "cell_type": "code",
   "execution_count": 32,
   "metadata": {},
   "outputs": [
    {
     "name": "stdout",
     "output_type": "stream",
     "text": [
      "Enter your name: kjs\n",
      "Employee name : kjs\n",
      "Working on project : Blockchain Development\n",
      "Project: Blockchain Development\n"
     ]
    }
   ],
   "source": [
    "# base class\n",
    "class Company:\n",
    "    # base constructor\n",
    "    def __init__(self):\n",
    "        # Protected instance variable\n",
    "        self._project = \"Blockchain Development\"\n",
    "\n",
    "# child class\n",
    "class Employee(Company):\n",
    "    # child constructor\n",
    "    def __init__(self, name):\n",
    "        self.name = name\n",
    "        \n",
    "        # invoke base constructor\n",
    "        Company.__init__(self)\n",
    "\n",
    "    def show(self):\n",
    "        print(f\"Employee name : {self.name}\")\n",
    "        \n",
    "        # Accessing protected instance variable in child class\n",
    "        print(\"Working on project :\", self._project)\n",
    "\n",
    "c = Employee(input(\"Enter your name: \"))\n",
    "c.show()\n",
    "\n",
    "# Direct access to protected instance variable\n",
    "print('Project:', c._project)"
   ]
  },
  {
   "cell_type": "markdown",
   "metadata": {},
   "source": [
    "## Getters and Setters in Python\n",
    "<ul><li>To implement proper encapsulation in Python, setters and getters can be used.</li><li> The primary purpose of using getters and setters in object-oriented programs is to ensure data encapsulation.</li><li> Use the getter method to access instance variables and the setter methods to modify the instance variables.</li></ul>\n",
    "\n",
    "In Python, private variables are not hidden fields like in other programming languages. The getters and setters methods are often used when:\n",
    "\n",
    "<ul><li>When we want to avoid direct access to private variables</li><li>\n",
    "To add validation logic for setting a value</li></ul>"
   ]
  },
  {
   "cell_type": "code",
   "execution_count": 37,
   "metadata": {},
   "outputs": [
    {
     "name": "stdout",
     "output_type": "stream",
     "text": [
      "Name: Chike Okala \n",
      "Age: 34\n",
      "\n",
      "\n",
      "Name: Chike Okala \n",
      "Age: 26\n"
     ]
    }
   ],
   "source": [
    "class Student:\n",
    "    def __init__(self, name, age):\n",
    "        # public instance variable\n",
    "        self.name = name\n",
    "        # private instance variable\n",
    "        self.__age = age\n",
    "\n",
    "    # getter method\n",
    "    def get_age(self):\n",
    "        return self.__age\n",
    "\n",
    "    # setter method\n",
    "    def set_age(self, age):\n",
    "        self.__age = age\n",
    "\n",
    "stud = Student('Chike Okala', 34)\n",
    "\n",
    "# retrieving age using getter\n",
    "print('Name:', stud.name, \"\\nAge:\", stud.get_age())\n",
    "\n",
    "# changing age using setter\n",
    "stud.set_age(26)\n",
    "\n",
    "# retrieving age using getter\n",
    "print('\\n\\nName:', stud.name, \"\\nAge:\", stud.get_age())\n"
   ]
  },
  {
   "cell_type": "code",
   "execution_count": 43,
   "metadata": {},
   "outputs": [
    {
     "name": "stdout",
     "output_type": "stream",
     "text": [
      "Student Details: Odunayo Agunbiade 10\n",
      "Invalid roll no. Please set correct roll number\n",
      "Student Details: Odunayo Agunbiade 25\n"
     ]
    }
   ],
   "source": [
    "class Student:\n",
    "    # contructor\n",
    "    def __init__(self, name, roll_no, ages):\n",
    "        # public instance variable\n",
    "        self.name = name\n",
    "        # private instance variables to restrict access\n",
    "        # avoid direct data modification\n",
    "        self.__roll_no = roll_no\n",
    "        self.__age = ages\n",
    "\n",
    "    def show(self):\n",
    "        print('Student Details:', self.name, self.__roll_no)\n",
    "\n",
    "    # getter methods\n",
    "    def get_roll_no(self):\n",
    "        return self.__roll_no\n",
    "\n",
    "    # setter method to modify instance varaible\n",
    "    # condition to allow data modification with rules\n",
    "    def set_roll_no(self, number):\n",
    "        if number > 50:\n",
    "            print('Invalid roll no. Please set correct roll number')\n",
    "        else:\n",
    "            self.__roll_no = number\n",
    "\n",
    "# object instanciation\n",
    "info = Student('Odunayo Agunbiade', 10, 15)\n",
    "\n",
    "# before Modify\n",
    "info.show()\n",
    "\n",
    "# changing roll number using setter\n",
    "info.set_roll_no(120, )\n",
    "\n",
    "\n",
    "info.set_roll_no(25)\n",
    "info.show()"
   ]
  },
  {
   "cell_type": "markdown",
   "metadata": {},
   "source": [
    "## Class Project I "
   ]
  },
  {
   "cell_type": "markdown",
   "metadata": {},
   "source": [
    "You have been contracted by the Registrar of Pan-Atlantic University (PAU) as an expert OOP developer to access the Student Information System (SIS) of PAU Student Council, inorder to classify the students grades, according to their age, into 3 categories; the pirates, the yankees and the bulls.\n",
    "\n",
    "Should you choose to accept this task, develop an OOP program that reads data from the sis.csv file as attached, following the instructions below: \n",
    "\n",
    "<b>Instructions:</b>\n",
    "    <ul><li>If the student age is greater than 14 and less than 18, create a .csv file for that category called <b>The_Pirates</b> and display it.</li><li>\n",
    "    If the student age is greater than 18 and less than 22, create a file for that category called <b>The_Yankees</b> and display it.</li><li>\n",
    "    If the student age is greater than 22 create a file for that category called <b>The_Bulls</b> and display it.</li></ul>\n"
   ]
  },
  {
   "cell_type": "code",
   "execution_count": 1,
   "metadata": {
    "scrolled": true
   },
   "outputs": [
    {
     "ename": "ValueError",
     "evalue": "The truth value of a Series is ambiguous. Use a.empty, a.bool(), a.item(), a.any() or a.all().",
     "output_type": "error",
     "traceback": [
      "\u001b[1;31m---------------------------------------------------------------------------\u001b[0m",
      "\u001b[1;31mValueError\u001b[0m                                Traceback (most recent call last)",
      "Cell \u001b[1;32mIn[1], line 41\u001b[0m\n\u001b[0;32m     39\u001b[0m names \u001b[38;5;241m=\u001b[39m data[\u001b[38;5;124m'\u001b[39m\u001b[38;5;124mAge\u001b[39m\u001b[38;5;124m'\u001b[39m]\n\u001b[0;32m     40\u001b[0m \u001b[38;5;28;01mfor\u001b[39;00m i \u001b[38;5;129;01min\u001b[39;00m names:\n\u001b[1;32m---> 41\u001b[0m     \u001b[38;5;28;01mif\u001b[39;00m \u001b[38;5;241m14\u001b[39m \u001b[38;5;241m<\u001b[39m data[\u001b[38;5;124m'\u001b[39m\u001b[38;5;124mAge\u001b[39m\u001b[38;5;124m'\u001b[39m] \u001b[38;5;241m<\u001b[39m \u001b[38;5;241m18\u001b[39m:\n\u001b[0;32m     42\u001b[0m         lol\u001b[38;5;241m.\u001b[39mThe_Pirates()\n",
      "File \u001b[1;32m~\\anaconda3\\lib\\site-packages\\pandas\\core\\generic.py:1527\u001b[0m, in \u001b[0;36mNDFrame.__nonzero__\u001b[1;34m(self)\u001b[0m\n\u001b[0;32m   1525\u001b[0m \u001b[38;5;129m@final\u001b[39m\n\u001b[0;32m   1526\u001b[0m \u001b[38;5;28;01mdef\u001b[39;00m \u001b[38;5;21m__nonzero__\u001b[39m(\u001b[38;5;28mself\u001b[39m) \u001b[38;5;241m-\u001b[39m\u001b[38;5;241m>\u001b[39m NoReturn:\n\u001b[1;32m-> 1527\u001b[0m     \u001b[38;5;28;01mraise\u001b[39;00m \u001b[38;5;167;01mValueError\u001b[39;00m(\n\u001b[0;32m   1528\u001b[0m         \u001b[38;5;124mf\u001b[39m\u001b[38;5;124m\"\u001b[39m\u001b[38;5;124mThe truth value of a \u001b[39m\u001b[38;5;132;01m{\u001b[39;00m\u001b[38;5;28mtype\u001b[39m(\u001b[38;5;28mself\u001b[39m)\u001b[38;5;241m.\u001b[39m\u001b[38;5;18m__name__\u001b[39m\u001b[38;5;132;01m}\u001b[39;00m\u001b[38;5;124m is ambiguous. \u001b[39m\u001b[38;5;124m\"\u001b[39m\n\u001b[0;32m   1529\u001b[0m         \u001b[38;5;124m\"\u001b[39m\u001b[38;5;124mUse a.empty, a.bool(), a.item(), a.any() or a.all().\u001b[39m\u001b[38;5;124m\"\u001b[39m\n\u001b[0;32m   1530\u001b[0m     )\n",
      "\u001b[1;31mValueError\u001b[0m: The truth value of a Series is ambiguous. Use a.empty, a.bool(), a.item(), a.any() or a.all()."
     ]
    }
   ],
   "source": [
    "import pandas as pd\n",
    "data = pd.read_csv(\"sis.csv\")\n",
    "names = data['Age']\n",
    "df = pd.DataFrame(data)\n",
    "\n",
    "df\n",
    "\n",
    "class registar:\n",
    "    \n",
    "    def The_Pirates(self):\n",
    "                the_pirates = {'MatNo':[1810, 1812, 1815, 1820, 1821],'Name':[\"Aina Adeleke\", \"Callistus Okeke\", \"Stella Olohimen\", \"Wilfred Nwachukwu\", \"Mildred James\"],'Age':[16, 17, 17, 16, 15],'Grade':[80, 40, 44, 45, 70]}\n",
    "                \n",
    "                da = pd.DataFrame(the_pirates)\n",
    "                                      \n",
    "                da.to_csv('The_pirates.csv')\n",
    "                \n",
    "    def The_Yankees(self):\n",
    "            the_yankees = {'MatNo':[1814, 1822, 1824, 1825],'Name':[\"Mary Akande\", \"Glory Babalola\", \"Godwin Osahon\", \"Philip Odion\"],'Age':[20, 21, 20, 19 ],'Grade':[87, 69, 51, 68 ]}\n",
    "            \n",
    "                \n",
    "            da = pd.DataFrame(the_yankees)\n",
    "                                      \n",
    "            da.to_csv('The_yankees.csv') \n",
    "                \n",
    "    def The_Bulls(self):\n",
    "            the_bulls = {'MatNo':[1811, 1813, 1817],'Name':[\"Sola Egbune\", \"Martin Alegbe\", \"Durojaiye Adamu\",],'Age':[23, 25, 24],'Grade':[55, 77, 60]}\n",
    "                \n",
    "            da = pd.DataFrame(the_bulls)\n",
    "                                      \n",
    "            da.to_csv('The_bulls.csv')                 \n",
    "lol = registar()                \n",
    "#for da in df['Age']:\n",
    "#    if 14 < da < 18:\n",
    "#        lol.The_Pirates()\n",
    "#    elif 18 < da < 22:\n",
    "#        lol.The_Yankees()\n",
    "#    elif da > 22:\n",
    "#        lol.The_Bulls()\n",
    "names = data['Age']\n",
    "for i in names:\n",
    "    if 14 < data['Age'] < 18:\n",
    "        lol.The_Pirates()\n",
    "    \n",
    "\n",
    "\n",
    "                \n",
    "            \n"
   ]
  },
  {
   "cell_type": "code",
   "execution_count": null,
   "metadata": {},
   "outputs": [],
   "source": []
  }
 ],
 "metadata": {
  "kernelspec": {
   "display_name": "Python 3 (ipykernel)",
   "language": "python",
   "name": "python3"
  },
  "language_info": {
   "codemirror_mode": {
    "name": "ipython",
    "version": 3
   },
   "file_extension": ".py",
   "mimetype": "text/x-python",
   "name": "python",
   "nbconvert_exporter": "python",
   "pygments_lexer": "ipython3",
   "version": "3.10.9"
  }
 },
 "nbformat": 4,
 "nbformat_minor": 4
}
