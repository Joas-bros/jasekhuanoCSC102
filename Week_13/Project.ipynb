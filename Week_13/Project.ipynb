{
 "cells": [
  {
   "cell_type": "code",
   "execution_count": 19,
   "id": "0bd148b7",
   "metadata": {},
   "outputs": [
    {
     "name": "stdout",
     "output_type": "stream",
     "text": [
      "Enter your name: dadw\n",
      "Enter your Matric Number: awd\n",
      "Enter your Department: adw\n",
      "Enter your Level: wad\n",
      "Enter your name: daw\n",
      "Enter your Matric Number: daw\n",
      "Enter your Department: w\n",
      "Enter your Level: aw\n",
      "Enter your name: ad\n",
      "Enter your Matric Number: da\n",
      "Enter your Department: adw\n",
      "Enter your Level: adw\n",
      "Enter your name: adw\n",
      "Enter your Matric Number: adw\n",
      "Enter your Department: daw\n",
      "Enter your Level: adw\n",
      "Enter your name: \n",
      "Enter your Matric Number: wadaw\n",
      "Enter your Department: daw\n",
      "Enter your Level: dwa\n",
      "  Student Name Matric.Number Department Level\n",
      "0         dadw           awd        adw   wad\n",
      "1          daw           daw          w    aw\n",
      "2           ad            da        adw   adw\n",
      "3          adw           adw        daw   adw\n",
      "4                      wadaw        daw   dwa\n"
     ]
    }
   ],
   "source": [
    "#Project 1\n",
    "#GREETINGS DR.MORU\n",
    "import pandas as pd\n",
    "\n",
    "data = []\n",
    "for i in range(5):\n",
    "    PAUSMIS = {}\n",
    "    PAUSMIS['Student Name'] = input(\"Enter your name: \")\n",
    "    PAUSMIS['Matric.Number'] = input(\"Enter your Matric Number: \")\n",
    "    PAUSMIS['Department'] = input(\"Enter your Department: \")\n",
    "    PAUSMIS['Level'] = input(\"Enter your Level: \")\n",
    "    \n",
    "    data.append(PAUSMIS)\n",
    "\n",
    "df = pd.DataFrame(data)\n",
    "print(df)\n",
    "\n",
    "\n",
    "df.to_csv('PAU-SMIS',index = False)\n",
    "\n"
   ]
  },
  {
   "cell_type": "code",
   "execution_count": 23,
   "id": "ac3caac8",
   "metadata": {},
   "outputs": [
    {
     "name": "stdout",
     "output_type": "stream",
     "text": [
      "    Company  Date Founded   Assets  Liabilities  Percentage Leverages\n",
      "0     Enron          1987  1000000       200000                  80.0\n",
      "1  Anderson          1936  1500000       500000                  66.7\n",
      "2  GK jones          2001  3000000      1500000                  50.0\n",
      "3      Mica          1996   250000        50000                  80.0\n",
      "4      Dune          2008   800000       300000                  62.5\n"
     ]
    }
   ],
   "source": [
    "#project 2\n",
    "\n",
    "import pandas as pd\n",
    " \n",
    "\n",
    "data = {'Company':['Enron', 'Anderson', 'GK jones', 'Mica', 'Dune'],\n",
    "        'Date Founded':[1987, 1936, 2001, 1996, 2008],\n",
    "        'Assets':[1000000, 1500000, 3000000, 250000, 800000],\n",
    "        'Liabilities':[200000, 500000, 1500000, 50000, 300000],\n",
    "        'Percentage Leverages':[80, 66.7, 50, 80, 62.5]}\n",
    "df = pd.DataFrame(data)\n",
    "print(df)\n",
    "df.to_csv('record.csv')"
   ]
  },
  {
   "cell_type": "code",
   "execution_count": null,
   "id": "e2996812",
   "metadata": {},
   "outputs": [],
   "source": []
  },
  {
   "cell_type": "code",
   "execution_count": null,
   "id": "150d2720",
   "metadata": {},
   "outputs": [],
   "source": [
    "daw"
   ]
  },
  {
   "cell_type": "code",
   "execution_count": null,
   "id": "17417270",
   "metadata": {},
   "outputs": [],
   "source": []
  },
  {
   "cell_type": "code",
   "execution_count": null,
   "id": "19caa695",
   "metadata": {},
   "outputs": [],
   "source": []
  },
  {
   "cell_type": "code",
   "execution_count": null,
   "id": "e5d5bab3",
   "metadata": {},
   "outputs": [],
   "source": []
  },
  {
   "cell_type": "code",
   "execution_count": null,
   "id": "a867c64c",
   "metadata": {},
   "outputs": [],
   "source": []
  },
  {
   "cell_type": "code",
   "execution_count": null,
   "id": "aba740e2",
   "metadata": {},
   "outputs": [],
   "source": [
    "sce"
   ]
  }
 ],
 "metadata": {
  "kernelspec": {
   "display_name": "Python 3 (ipykernel)",
   "language": "python",
   "name": "python3"
  },
  "language_info": {
   "codemirror_mode": {
    "name": "ipython",
    "version": 3
   },
   "file_extension": ".py",
   "mimetype": "text/x-python",
   "name": "python",
   "nbconvert_exporter": "python",
   "pygments_lexer": "ipython3",
   "version": "3.10.9"
  }
 },
 "nbformat": 4,
 "nbformat_minor": 5
}
