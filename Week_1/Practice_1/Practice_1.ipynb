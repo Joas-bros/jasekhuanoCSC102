{
 "cells": [
  {
   "cell_type": "code",
   "execution_count": 1,
   "id": "bdba621c-e239-4ae4-bccb-dc8f9244f01d",
   "metadata": {},
   "outputs": [
    {
     "name": "stdout",
     "output_type": "stream",
     "text": [
      "100\n",
      "Data Type of Variable num is <class 'int'>\n",
      "34.45\n",
      "Data Type of Variable fnum is <class 'float'>\n",
      "(3+4j)\n",
      "Data Type of Variable cnum is <class 'complex'>\n"
     ]
    }
   ],
   "source": [
    "# Integer number\n",
    "num = 100\n",
    "print(num)\n",
    "print(\"Data Type of Variable num is\", type(num))\n",
    "\n",
    "#Float number\n",
    "fnum = 34.45\n",
    "print(fnum)\n",
    "print(\"Data Type of Variable fnum is\", type(fnum))\n",
    "\n",
    "#Complex number\n",
    "cnum = 3 + 4j\n",
    "print(cnum)\n",
    "print(\"Data Type of Variable cnum is\",type(cnum))\n",
    "\n"
   ]
  },
  {
   "cell_type": "code",
   "execution_count": 2,
   "id": "b2f4dbe8-833d-4f30-beb2-b02fb0c4529f",
   "metadata": {},
   "outputs": [
    {
     "name": "stdout",
     "output_type": "stream",
     "text": [
      "Hi my name is Matthew. I am String\n",
      "<class 'str'>\n",
      "Hi my name is precious. I am also a string\n",
      "<class 'str'>\n"
     ]
    }
   ],
   "source": [
    "#Python program to print strings and type\n",
    "str1 = \"Hi my name is Matthew. I am String\"\n",
    "str2 = 'Hi my name is precious. I am also a string'\n",
    "\n",
    "#diplaying string str1 and its type\n",
    "print(str1)\n",
    "print(type(str1))\n",
    "\n",
    "#displaying string str2 and its type\n",
    "print(str2)\n",
    "print(type(str2))"
   ]
  },
  {
   "cell_type": "code",
   "execution_count": null,
   "id": "a21ea0a2-510b-4a27-a28b-48811be52e96",
   "metadata": {},
   "outputs": [],
   "source": []
  }
 ],
 "metadata": {
  "kernelspec": {
   "display_name": "Python 3 (ipykernel)",
   "language": "python",
   "name": "python3"
  },
  "language_info": {
   "codemirror_mode": {
    "name": "ipython",
    "version": 3
   },
   "file_extension": ".py",
   "mimetype": "text/x-python",
   "name": "python",
   "nbconvert_exporter": "python",
   "pygments_lexer": "ipython3",
   "version": "3.10.9"
  }
 },
 "nbformat": 4,
 "nbformat_minor": 5
}
