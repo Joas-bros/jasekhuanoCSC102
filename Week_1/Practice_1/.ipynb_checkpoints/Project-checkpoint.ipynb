{
 "cells": [
  {
   "cell_type": "code",
   "execution_count": 4,
   "id": "5bb97815",
   "metadata": {},
   "outputs": [
    {
     "name": "stdin",
     "output_type": "stream",
     "text": [
      "What is the time taken 5\n",
      "What is the rate of interest 5\n",
      "What is the principle 10000\n"
     ]
    },
    {
     "name": "stdout",
     "output_type": "stream",
     "text": [
      "The amount is 12500.0\n"
     ]
    }
   ],
   "source": [
    "T = int(input(\"What is the time taken\"))\n",
    "R = int(input(\"What is the rate of interest\"))\n",
    "P = int(input(\"What is the principle\"))\n",
    "\n",
    "r = R /100\n",
    "i = r* T\n",
    "c = 1 + i\n",
    "p = P* c\n",
    "print(\"The amount is\", p)\n",
    "\n"
   ]
  },
  {
   "cell_type": "code",
   "execution_count": 8,
   "id": "d68b4706-5f08-495e-92fd-ee0d3e022243",
   "metadata": {},
   "outputs": [
    {
     "name": "stdin",
     "output_type": "stream",
     "text": [
      "What is the time taken 5\n",
      "What is the rate of interest 5\n",
      "What is your n value 2\n",
      "What is the principle 10000\n"
     ]
    },
    {
     "name": "stdout",
     "output_type": "stream",
     "text": [
      "The Amount is 2758547353.515625\n"
     ]
    }
   ],
   "source": [
    "t = int(input(\"What is the time taken\"))\n",
    "R = int(input(\"What is the rate of interest\"))\n",
    "n = int(input(\"What is your n value\"))\n",
    "P = int(input(\"What is the principle\"))\n",
    "\n",
    "o = n* t\n",
    "i = R/n\n",
    "u = 1 + i\n",
    "po = u** o\n",
    "A = P* po\n",
    "print(\"The Amount is\", A)\n"
   ]
  },
  {
   "cell_type": "code",
   "execution_count": 9,
   "id": "14492164-c27c-4987-8554-485b408365e6",
   "metadata": {},
   "outputs": [
    {
     "name": "stdin",
     "output_type": "stream",
     "text": [
      "What is the time taken 5\n",
      "What is the rate of interest 5\n",
      "What is your n value 2\n",
      "What is the PMT 10000\n"
     ]
    },
    {
     "name": "stdout",
     "output_type": "stream",
     "text": [
      "The Amount is 1103414941.40625\n"
     ]
    }
   ],
   "source": [
    "t = int(input(\"What is the time taken\"))\n",
    "R = int(input(\"What is the rate of interest\"))\n",
    "n = int(input(\"What is your n value\"))\n",
    "P = int(input(\"What is the PMT\"))\n",
    "\n",
    "o = n* t\n",
    "i = R/n\n",
    "u = 1 + i\n",
    "j = u** o\n",
    "jk = j - 1\n",
    "lol = jk/i\n",
    "ANNUITY = lol* P\n",
    "print(\"The Amount is\", ANNUITY)\n"
   ]
  },
  {
   "cell_type": "code",
   "execution_count": null,
   "id": "f49df8cd-d3fa-4c50-b4e8-8709eeac711a",
   "metadata": {},
   "outputs": [],
   "source": []
  }
 ],
 "metadata": {
  "kernelspec": {
   "display_name": "Python 3 (ipykernel)",
   "language": "python",
   "name": "python3"
  },
  "language_info": {
   "codemirror_mode": {
    "name": "ipython",
    "version": 3
   },
   "file_extension": ".py",
   "mimetype": "text/x-python",
   "name": "python",
   "nbconvert_exporter": "python",
   "pygments_lexer": "ipython3",
   "version": "3.10.9"
  }
 },
 "nbformat": 4,
 "nbformat_minor": 5
}
