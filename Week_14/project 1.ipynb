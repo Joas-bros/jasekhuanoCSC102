{
 "cells": [
  {
   "cell_type": "code",
   "execution_count": 10,
   "metadata": {},
   "outputs": [],
   "source": [
    "import psycopg2\n",
    "\n",
    "# Establish a connection to the PostgreSQL server\n",
    "conn = psycopg2.connect(\n",
    "    host=\"localhost\",\n",
    "    port=\"5432\",\n",
    "    database=\"mtn_nigeria\",\n",
    "    user=\"postgres\",\n",
    "    password=\"csc101\"\n",
    ")\n",
    "\n",
    "# Create a cursor object to execute SQL commands\n",
    "cursor = conn.cursor()\n",
    "\n",
    "\n",
    "\n",
    "# Switch to the newly created database\n",
    "conn.close()\n",
    "conn = psycopg2.connect(\n",
    "    host=\"localhost\",\n",
    "    database=\"mtn_nigeria\",\n",
    "    user=\"postgres\",\n",
    "    password=\"csc101\"\n",
    ")\n",
    "cursor = conn.cursor()\n",
    "\n",
    "# Create the customer_info table\n",
    "create_table_query = '''\n",
    "CREATE TABLE customer_info (\n",
    "    id SERIAL PRIMARY KEY,\n",
    "    Name VARCHAR(100),\n",
    "    Email VARCHAR(100),\n",
    "    State_of_Residence VARCHAR(100),\n",
    "    Mobile VARCHAR(20)\n",
    ")\n",
    "'''\n",
    "cursor.execute(create_table_query)\n",
    "\n",
    "insert_query = '''\n",
    "    INSERT INTO customer_info (Name, Email, state_of_Residence, Mobile)\n",
    "    VALUES (%s, %s, %s, %s)\n",
    "'''\n",
    "\n",
    "# Define the values to be inserted\n",
    "values = (\"Favor Okpara-Ngbo\", \"Joshua Asekhauno\", \"Collins Odoh-Ifeanyi\", \"Chibundum Umeh\", \"Clinto Okpara\")\n",
    "values = (\"fokpara-ngbo@mtn.com\", \"jasekhauno@mtn.com\", \"codoh-ifeanyi@mtn.com\", \"cumeh@mtn.com\", \"cokpara@mtn.com\")\n",
    "values = (\"Lagos\", \"Portharcourt\", \"Abuja\", \"Owerri\", \"Kaduna\")\n",
    "values = (\"08038212938\", \"080374930210\", \"08067392029\", \"0803493712348\")\n",
    "\n",
    "# Execute the INSERT statement\n",
    "cursor.execute(insert_query, values)\n",
    "\n",
    "\n",
    "# Commit the changes and close the connection\n",
    "conn.commit()\n",
    "conn.close()\n",
    "\n",
    "\n"
   ]
  },
  {
   "cell_type": "code",
   "execution_count": 6,
   "metadata": {},
   "outputs": [
    {
     "ename": "OperationalError",
     "evalue": "could not translate host name \"your_host\" to address: Unknown host\n",
     "output_type": "error",
     "traceback": [
      "\u001b[1;31m---------------------------------------------------------------------------\u001b[0m",
      "\u001b[1;31mOperationalError\u001b[0m                          Traceback (most recent call last)",
      "\u001b[1;32m<ipython-input-6-58b7207fd9d4>\u001b[0m in \u001b[0;36m<module>\u001b[1;34m\u001b[0m\n\u001b[0;32m      2\u001b[0m \u001b[1;33m\u001b[0m\u001b[0m\n\u001b[0;32m      3\u001b[0m \u001b[1;31m# Connect to the PostgreSQL server\u001b[0m\u001b[1;33m\u001b[0m\u001b[1;33m\u001b[0m\u001b[1;33m\u001b[0m\u001b[0m\n\u001b[1;32m----> 4\u001b[1;33m conn = psycopg2.connect(\n\u001b[0m\u001b[0;32m      5\u001b[0m     \u001b[0mhost\u001b[0m\u001b[1;33m=\u001b[0m\u001b[1;34m\"your_host\"\u001b[0m\u001b[1;33m,\u001b[0m\u001b[1;33m\u001b[0m\u001b[1;33m\u001b[0m\u001b[0m\n\u001b[0;32m      6\u001b[0m     \u001b[0mdatabase\u001b[0m\u001b[1;33m=\u001b[0m\u001b[1;34m\"your_database\"\u001b[0m\u001b[1;33m,\u001b[0m\u001b[1;33m\u001b[0m\u001b[1;33m\u001b[0m\u001b[0m\n",
      "\u001b[1;32m~\\anaconda3\\lib\\site-packages\\psycopg2\\__init__.py\u001b[0m in \u001b[0;36mconnect\u001b[1;34m(dsn, connection_factory, cursor_factory, **kwargs)\u001b[0m\n\u001b[0;32m    120\u001b[0m \u001b[1;33m\u001b[0m\u001b[0m\n\u001b[0;32m    121\u001b[0m     \u001b[0mdsn\u001b[0m \u001b[1;33m=\u001b[0m \u001b[0m_ext\u001b[0m\u001b[1;33m.\u001b[0m\u001b[0mmake_dsn\u001b[0m\u001b[1;33m(\u001b[0m\u001b[0mdsn\u001b[0m\u001b[1;33m,\u001b[0m \u001b[1;33m**\u001b[0m\u001b[0mkwargs\u001b[0m\u001b[1;33m)\u001b[0m\u001b[1;33m\u001b[0m\u001b[1;33m\u001b[0m\u001b[0m\n\u001b[1;32m--> 122\u001b[1;33m     \u001b[0mconn\u001b[0m \u001b[1;33m=\u001b[0m \u001b[0m_connect\u001b[0m\u001b[1;33m(\u001b[0m\u001b[0mdsn\u001b[0m\u001b[1;33m,\u001b[0m \u001b[0mconnection_factory\u001b[0m\u001b[1;33m=\u001b[0m\u001b[0mconnection_factory\u001b[0m\u001b[1;33m,\u001b[0m \u001b[1;33m**\u001b[0m\u001b[0mkwasync\u001b[0m\u001b[1;33m)\u001b[0m\u001b[1;33m\u001b[0m\u001b[1;33m\u001b[0m\u001b[0m\n\u001b[0m\u001b[0;32m    123\u001b[0m     \u001b[1;32mif\u001b[0m \u001b[0mcursor_factory\u001b[0m \u001b[1;32mis\u001b[0m \u001b[1;32mnot\u001b[0m \u001b[1;32mNone\u001b[0m\u001b[1;33m:\u001b[0m\u001b[1;33m\u001b[0m\u001b[1;33m\u001b[0m\u001b[0m\n\u001b[0;32m    124\u001b[0m         \u001b[0mconn\u001b[0m\u001b[1;33m.\u001b[0m\u001b[0mcursor_factory\u001b[0m \u001b[1;33m=\u001b[0m \u001b[0mcursor_factory\u001b[0m\u001b[1;33m\u001b[0m\u001b[1;33m\u001b[0m\u001b[0m\n",
      "\u001b[1;31mOperationalError\u001b[0m: could not translate host name \"your_host\" to address: Unknown host\n"
     ]
    }
   ],
   "source": [
    "insert_query = '''\n",
    "    INSERT INTO student_info (name, email, mat_no)\n",
    "    VALUES (%s, %s, %s)\n",
    "'''\n",
    "\n",
    "# Define the values to be inserted\n",
    "values = ('Ade Jones', 'ajones@pau.edu.ng', '121234222')\n",
    "\n",
    "# Execute the INSERT statement\n",
    "cursor.execute(insert_query, values)\n"
   ]
  },
  {
   "cell_type": "code",
   "execution_count": null,
   "metadata": {},
   "outputs": [],
   "source": []
  }
 ],
 "metadata": {
  "kernelspec": {
   "display_name": "Python 3",
   "language": "python",
   "name": "python3"
  },
  "language_info": {
   "codemirror_mode": {
    "name": "ipython",
    "version": 3
   },
   "file_extension": ".py",
   "mimetype": "text/x-python",
   "name": "python",
   "nbconvert_exporter": "python",
   "pygments_lexer": "ipython3",
   "version": "3.8.5"
  }
 },
 "nbformat": 4,
 "nbformat_minor": 4
}
