{
 "cells": [
  {
   "cell_type": "code",
   "execution_count": 1,
   "id": "95233194",
   "metadata": {},
   "outputs": [
    {
     "name": "stdout",
     "output_type": "stream",
     "text": [
      "Enter name of city 1: Lagos\n",
      "Enter name of City 2: Lagos\n",
      "The name of City 1 after swapping is Lagos\n",
      "The name of City 2 after swapping isLagos\n"
     ]
    }
   ],
   "source": [
    "city_1 = input('Enter name of city 1: ')\n",
    "city_2 = input('Enter name of City 2: ')\n",
    "\n",
    "temp = city_1\n",
    "city_1 = city_2\n",
    "city_2 = temp\n",
    "\n",
    "print(f\"The name of City 1 after swapping is {city_1}\")\n",
    "print(f\"The name of City 2 after swapping is{city_2}\")\n"
   ]
  },
  {
   "cell_type": "code",
   "execution_count": 3,
   "id": "ef86ccf6",
   "metadata": {},
   "outputs": [
    {
     "name": "stdout",
     "output_type": "stream",
     "text": [
      "Enter a number: 1\n",
      "Positive number\n"
     ]
    }
   ],
   "source": [
    "num = float(input(\"Enter a number: \"))\n",
    "if num > 0:\n",
    "    print(\"Positive number\")\n",
    "elif num == 0:\n",
    "    print(\"Zero\")\n",
    "else:\n",
    "    print(\"Negative number\")"
   ]
  },
  {
   "cell_type": "code",
   "execution_count": 4,
   "id": "d2003bc5",
   "metadata": {},
   "outputs": [
    {
     "name": "stdout",
     "output_type": "stream",
     "text": [
      "Welcome to the COUPE DE ESCRIVA 2023: FOOTBALL PICKS \n",
      "\n",
      "Madiba:  Chubby Obiora-Okafo\n",
      "Blue-Jays:  Christopher Umeh\n",
      "Cirok:  Alexander\n",
      "TSG Walkers:  Ikechukwu\n",
      "\n",
      "\n",
      "Madiba:  Chubby Obiora-Okafo\n",
      "Blue-Jays:  Oladimeji Abaniwondea/Jeffery Awagu\n",
      "TSG Walkers:  Ayomide Ojituku\n"
     ]
    }
   ],
   "source": [
    "print(\"Welcome to the COUPE DE ESCRIVA 2023: FOOTBALL PICKS \\n\")\n",
    "\n",
    "captain = {'Madiba: ': 'Chubby Obiora-Okafo', 'Blue-Jays: ':'Christopher Umeh',\n",
    "          'Cirok: ': 'Alexander', 'TSG Walkers: ': 'Ikechukwu'}\n",
    "goalkeepers = {'Madiba: ': 'Chubby Obiora-Okafo', \n",
    "              'Blue-Jays: ': 'Oladimeji Abaniwondea/Jeffery Awagu',\n",
    "              'TSG Walkers: ': 'Ayomide Ojituku'}\n",
    "\n",
    "for pick in captain:\n",
    "    print(pick, captain[pick])\n",
    "    \n",
    "print(\"\\n\")\n",
    "\n",
    "for pick in goalkeepers:\n",
    "    print(pick, goalkeepers[pick])"
   ]
  },
  {
   "cell_type": "code",
   "execution_count": null,
   "id": "34b35e41",
   "metadata": {},
   "outputs": [],
   "source": []
  }
 ],
 "metadata": {
  "kernelspec": {
   "display_name": "Python 3 (ipykernel)",
   "language": "python",
   "name": "python3"
  },
  "language_info": {
   "codemirror_mode": {
    "name": "ipython",
    "version": 3
   },
   "file_extension": ".py",
   "mimetype": "text/x-python",
   "name": "python",
   "nbconvert_exporter": "python",
   "pygments_lexer": "ipython3",
   "version": "3.10.9"
  }
 },
 "nbformat": 4,
 "nbformat_minor": 5
}
