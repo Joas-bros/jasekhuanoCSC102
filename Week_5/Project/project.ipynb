{
 "cells": [
  {
   "cell_type": "code",
   "execution_count": 30,
   "id": "d786c33d",
   "metadata": {},
   "outputs": [
    {
     "name": "stdout",
     "output_type": "stream",
     "text": [
      "NAME     | samantha|\n",
      "NAME     | 17\n",
      "NAME     | 5.5\n",
      "NAME     | 80\n",
      "AGE| samantha|\n",
      "AGE| 17\n",
      "AGE| 5.5\n",
      "AGE| 80\n",
      "HEIGHT| samantha|\n",
      "HEIGHT| 17\n",
      "HEIGHT| 5.5\n",
      "HEIGHT| 80\n",
      "SCORE| samantha|\n",
      "SCORE| 17\n",
      "SCORE| 5.5\n",
      "SCORE| 80\n"
     ]
    }
   ],
   "source": [
    "m = 0\n",
    "n = 0\n",
    "o = 0\n",
    "title = ['NAME     |'    , 'AGE|', 'HEIGHT|', 'SCORE|']\n",
    "\n",
    "girl1 = ['samantha|', 17,    5.5,      80]\n",
    "\n",
    "girl2 = ['Jada    ', 16,    6.0,       85]\n",
    "\n",
    "girl3 = ['Claire  ', 17,    5.4,      70]\n",
    "\n",
    "girl4 = ['Elizabeth    ',18 , 5.9, 60]\n",
    "\n",
    "for m in title:\n",
    "    for n in girl1:\n",
    "        print(m,n)\n",
    "\n",
    "    \n"
   ]
  },
  {
   "cell_type": "code",
   "execution_count": 18,
   "id": "1461be0d",
   "metadata": {},
   "outputs": [
    {
     "ename": "TypeError",
     "evalue": "tuple indices must be integers or slices, not str",
     "output_type": "error",
     "traceback": [
      "\u001b[1;31m---------------------------------------------------------------------------\u001b[0m",
      "\u001b[1;31mTypeError\u001b[0m                                 Traceback (most recent call last)",
      "Cell \u001b[1;32mIn[18], line 5\u001b[0m\n\u001b[0;32m      2\u001b[0m girlage \u001b[38;5;241m=\u001b[39m (\u001b[38;5;241m17\u001b[39m, \u001b[38;5;241m16\u001b[39m, \u001b[38;5;241m17\u001b[39m, \u001b[38;5;241m18\u001b[39m, \u001b[38;5;241m16\u001b[39m, \u001b[38;5;241m18\u001b[39m, \u001b[38;5;241m17\u001b[39m, \u001b[38;5;241m20\u001b[39m, \u001b[38;5;241m19\u001b[39m, \u001b[38;5;241m17\u001b[39m)\n\u001b[0;32m      4\u001b[0m \u001b[38;5;28;01mfor\u001b[39;00m lol \u001b[38;5;129;01min\u001b[39;00m girlname:\n\u001b[1;32m----> 5\u001b[0m     \u001b[38;5;28mprint\u001b[39m(\u001b[43mgirlname\u001b[49m\u001b[43m[\u001b[49m\u001b[43mlol\u001b[49m\u001b[43m]\u001b[49m)\n",
      "\u001b[1;31mTypeError\u001b[0m: tuple indices must be integers or slices, not str"
     ]
    }
   ],
   "source": [
    "girlname = ('samantha', 'jada', 'jane', 'claire', 'elizabeth', 'Mary', 'susan', 'waje', 'talibat', 'lilian')\n",
    "girlage = (17, 16, 17, 18, 16, 18, 17, 20, 19, 17)\n",
    "\n",
    "for lol in girlname:\n",
    "    print(girlname[lol])"
   ]
  },
  {
   "cell_type": "code",
   "execution_count": null,
   "id": "77c30a38",
   "metadata": {},
   "outputs": [],
   "source": []
  }
 ],
 "metadata": {
  "kernelspec": {
   "display_name": "Python 3 (ipykernel)",
   "language": "python",
   "name": "python3"
  },
  "language_info": {
   "codemirror_mode": {
    "name": "ipython",
    "version": 3
   },
   "file_extension": ".py",
   "mimetype": "text/x-python",
   "name": "python",
   "nbconvert_exporter": "python",
   "pygments_lexer": "ipython3",
   "version": "3.10.9"
  }
 },
 "nbformat": 4,
 "nbformat_minor": 5
}
