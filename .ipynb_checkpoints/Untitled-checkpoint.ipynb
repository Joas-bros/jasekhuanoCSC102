{
 "cells": [
  {
   "cell_type": "code",
   "execution_count": 1,
   "id": "9a8a56c1",
   "metadata": {},
   "outputs": [
    {
     "name": "stdout",
     "output_type": "stream",
     "text": [
      "what is your nameJoshua\n",
      "Hello, Joshua\n"
     ]
    }
   ],
   "source": [
    "person = input(\"what is your name\")\n",
    "print('Hello,',person)"
   ]
  },
  {
   "cell_type": "raw",
   "id": "86bd8a01",
   "metadata": {},
   "source": [
    "r = input(what is ur rate)\n"
   ]
  },
  {
   "cell_type": "code",
   "execution_count": null,
   "id": "53bc5a39",
   "metadata": {},
   "outputs": [],
   "source": [
    "import pandas as pd\n",
    "\n",
    "num_iterations = int(input(\"Enter the number of iterations: \"))\n",
    "data = []\n",
    "\n",
    "for i in range(num_iterations):\n",
    "    PAUSMIS = {}\n",
    "    PAUSMIS['Student Name'] = input(\"Enter your name: \")\n",
    "    PAUSMIS['Matric.Number'] = input(\"Enter your Matric Number: \")\n",
    "    PAUSMIS['Department'] = input(\"Enter your Department: \")\n",
    "    PAUSMIS['Level'] = input(\"Enter your Level: \")\n",
    "    \n",
    "    data.append(PAUSMIS)\n",
    "\n",
    "# Create a DataFrame from the list of dictionaries\n",
    "df = pd.DataFrame(data)\n",
    "print(df)\n",
    "\n",
    "# Save DataFrame to a CSV file\n",
    "filename = input(\"Enter a filename to save the data (without extension): \")\n",
    "df.to_csv(f\"{filename}.csv\", index=False)\n",
    "\n",
    "print(f\"Data saved as '{filename}.csv' successfully.\")\n",
    "\n"
   ]
  },
  {
   "cell_type": "markdown",
   "id": "09c7c1d1",
   "metadata": {},
   "source": [
    "## "
   ]
  },
  {
   "cell_type": "code",
   "execution_count": null,
   "id": "235cd04e",
   "metadata": {},
   "outputs": [],
   "source": []
  }
 ],
 "metadata": {
  "kernelspec": {
   "display_name": "Python 3 (ipykernel)",
   "language": "python",
   "name": "python3"
  },
  "language_info": {
   "codemirror_mode": {
    "name": "ipython",
    "version": 3
   },
   "file_extension": ".py",
   "mimetype": "text/x-python",
   "name": "python",
   "nbconvert_exporter": "python",
   "pygments_lexer": "ipython3",
   "version": "3.10.9"
  }
 },
 "nbformat": 4,
 "nbformat_minor": 5
}
