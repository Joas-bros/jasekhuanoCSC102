{
 "cells": [
  {
   "cell_type": "code",
   "execution_count": 1,
   "id": "9a8a56c1",
   "metadata": {},
   "outputs": [
    {
     "name": "stdout",
     "output_type": "stream",
     "text": [
      "what is your nameJoshua\n",
      "Hello, Joshua\n"
     ]
    }
   ],
   "source": [
    "person = input(\"what is your name\")\n",
    "print('Hello,',person)"
   ]
  },
  {
   "cell_type": "raw",
   "id": "86bd8a01",
   "metadata": {},
   "source": [
    "r = input(what is ur rate)\n"
   ]
  },
  {
   "cell_type": "code",
   "execution_count": null,
   "id": "53bc5a39",
   "metadata": {},
   "outputs": [],
   "source": [
    "r = input(\"what is ur rate\")\n",
    "hub = r/100\n",
    "yh = t* hub"
   ]
  }
 ],
 "metadata": {
  "kernelspec": {
   "display_name": "Python 3 (ipykernel)",
   "language": "python",
   "name": "python3"
  },
  "language_info": {
   "codemirror_mode": {
    "name": "ipython",
    "version": 3
   },
   "file_extension": ".py",
   "mimetype": "text/x-python",
   "name": "python",
   "nbconvert_exporter": "python",
   "pygments_lexer": "ipython3",
   "version": "3.10.9"
  }
 },
 "nbformat": 4,
 "nbformat_minor": 5
}
