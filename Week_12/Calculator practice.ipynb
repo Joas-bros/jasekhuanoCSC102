{
 "cells": [
  {
   "cell_type": "code",
   "execution_count": null,
   "id": "c1a13748",
   "metadata": {},
   "outputs": [],
   "source": [
    "\n",
    "\n",
    "userinput = input(\"if you want to add 1,if you want to subract press 2,if you want to divide press 3, if you want to multply press 4\") \")"
   ]
  }
 ],
 "metadata": {
  "kernelspec": {
   "display_name": "Python 3 (ipykernel)",
   "language": "python",
   "name": "python3"
  },
  "language_info": {
   "codemirror_mode": {
    "name": "ipython",
    "version": 3
   },
   "file_extension": ".py",
   "mimetype": "text/x-python",
   "name": "python",
   "nbconvert_exporter": "python",
   "pygments_lexer": "ipython3",
   "version": "3.10.9"
  }
 },
 "nbformat": 4,
 "nbformat_minor": 5
}
