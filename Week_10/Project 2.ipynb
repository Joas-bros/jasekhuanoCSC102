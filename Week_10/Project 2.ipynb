{
 "cells": [
  {
   "cell_type": "code",
   "execution_count": 18,
   "id": "92f22072",
   "metadata": {},
   "outputs": [
    {
     "name": "stdout",
     "output_type": "stream",
     "text": [
      "SELECT area of trap = 1,area of rhom = 2,area of para = 3,area of cube = 4,area of cylinder = 5: 2\n",
      "Enter your lol (1-5)2\n",
      "What is your first diagonal1\n",
      "What is your second diagonal2\n",
      "The Area of Rhombus:  1.0\n"
     ]
    }
   ],
   "source": [
    "class calculations:\n",
    "    def trap(self):\n",
    "        height = int(input(\"what is your height: \"))\n",
    "        base1 = int(input(\"what is your first base: \"))\n",
    "        base2 = int(input(\"what is your second base: \"))\n",
    "        l = height/2\n",
    "        b = base1 + base2\n",
    "        area1 = l * b\n",
    "        print(\"The Area of Trapezium is: \",area1)\n",
    "    def rhom(self):\n",
    "        diagonal1 = int(input(\"What is your first diagonal\"))\n",
    "        diagonal2 = int(input(\"What is your second diagonal\"))\n",
    "        b = diagonal1 * diagonal2\n",
    "        area2 = b/2\n",
    "        print(\"The Area of Rhombus: \",area2)\n",
    "    def para(self):\n",
    "        base = int(input(\"What is your base: \"))\n",
    "        altitude =int(input(\"What is your altitude: \"))\n",
    "        area3 = base * altitude\n",
    "        print(\"The Area of parallelogram: \",area3)\n",
    "    def cube(self):\n",
    "        len = int(input(\"What is your length of side\"))\n",
    "        o = len * len\n",
    "        area4 = o * 6\n",
    "        print(\"The area of cube is:\",area4)\n",
    "    def cylin(self):\n",
    "        radius = float(input(\"What is your radius: \"))\n",
    "        height = float(input(\"What is your height: \"))\n",
    "        sq = radius * radius\n",
    "        area5 = 3.14195 * sq * height\n",
    "        print(\"The voulume of cylinder: \",area5)\n",
    "    \n",
    "juju = calculations()\n",
    "lol = input(\"SELECT area of trap = 1,area of rhom = 2,area of para = 3,area of cube = 4,area of cylinder = 5: \")\n",
    "s = int(input(\"Enter your lol (1-5)\"))\n",
    "if s == 1:\n",
    "       juju.trap()\n",
    "elif s == 2:\n",
    "       juju.rhom()\n",
    "elif s == 3:\n",
    "       juju.para()\n",
    "elif s == 4:\n",
    "       juju.cube()\n",
    "elif s == 5:\n",
    "       juju.cylin()\n",
    "else:\n",
    "    print(\"INVALID INPUT\")\n",
    "       \n",
    "\n",
    "\n",
    "        "
   ]
  },
  {
   "cell_type": "code",
   "execution_count": null,
   "id": "1ec327c4",
   "metadata": {},
   "outputs": [],
   "source": []
  },
  {
   "cell_type": "code",
   "execution_count": null,
   "id": "a72fa4c2",
   "metadata": {},
   "outputs": [],
   "source": []
  }
 ],
 "metadata": {
  "kernelspec": {
   "display_name": "Python 3 (ipykernel)",
   "language": "python",
   "name": "python3"
  },
  "language_info": {
   "codemirror_mode": {
    "name": "ipython",
    "version": 3
   },
   "file_extension": ".py",
   "mimetype": "text/x-python",
   "name": "python",
   "nbconvert_exporter": "python",
   "pygments_lexer": "ipython3",
   "version": "3.10.9"
  }
 },
 "nbformat": 4,
 "nbformat_minor": 5
}
