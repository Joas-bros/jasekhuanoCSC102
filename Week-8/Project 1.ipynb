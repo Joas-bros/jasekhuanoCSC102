{
 "cells": [
  {
   "cell_type": "code",
   "execution_count": 31,
   "id": "51466362",
   "metadata": {},
   "outputs": [
    {
     "name": "stdout",
     "output_type": "stream",
     "text": [
      "Enter your name: Mary Evans\n",
      "ATTENDANCE TAKEN\n",
      "Your task is  Delivering Items\n"
     ]
    }
   ],
   "source": [
    "import random\n",
    "class Employee:\n",
    "    def __init__(self, name, employee_list):\n",
    "        self.name = name\n",
    "        self.employee_list = employee_list\n",
    "\n",
    "    \n",
    "    def check_employee(self):\n",
    "        if self.name in self.employee_list:\n",
    "            print(\"You have been granted access\")\n",
    "        elif self.name != self.employee_list:\n",
    "            print(self.refuse_access())\n",
    "        else:\n",
    "            print(\"INVALID INPUT\")\n",
    "            \n",
    "        \n",
    "    def take_attendance(self):\n",
    "        if self.name in self.employee_list:\n",
    "            print(\"ATTENDANCE TAKEN\")        \n",
    "        elif self.name != self.employee_list:\n",
    "            print(self.refuse_access())\n",
    "        else:\n",
    "            print(\"INVALID INPUT\")\n",
    "            \n",
    "    def assign_task(self):\n",
    "        task = random.choice([\"Loading\", \"Transporting\",\n",
    "                               \"Reveiwing Orders\", \"Customer Service\", \n",
    "                               \"Delivering Items\"])\n",
    "        if self.name in self.employee_list:\n",
    "            print(\"Your task is \",task)\n",
    "        elif self.name != self.employee_list:\n",
    "            print(self.refuse_access())\n",
    "        else:\n",
    "            print(\"INVALID INPUT\")        \n",
    "        \n",
    "        \n",
    "    def refuse_access(self):\n",
    "            print(\"You do not have access\")\n",
    "\n",
    "        \n",
    "        \n",
    "employees = [\"Mary Evans\", \"Eyo Ishan\", \"Durojaiye Dare\", \n",
    "\"Adams Ali\", \"Andrew Ugwu\", \"Stella Mankinde\", \"Jane Akibo\",\n",
    "\"Ago James\", \"Michell Taiwo\", \"Abraham Jones\" , \"Nicole Anide\",\n",
    "\"Kosi Korso\",\n",
    "\"Adele Martins\", \"Emmanuel Ojo\", \"Ajayi Fatima\"] \n",
    "name = input(\"Enter your name: \")\n",
    "\n",
    "\n",
    "employee = Employee(name, employees)\n",
    "employee.take_attendance()\n",
    "employee.assign_task()\n",
    "\n",
    "    \n",
    "        \n",
    "        \n",
    "   \n",
    "        \n",
    "        "
   ]
  },
  {
   "cell_type": "code",
   "execution_count": null,
   "id": "d8c55f36",
   "metadata": {},
   "outputs": [],
   "source": []
  },
  {
   "cell_type": "code",
   "execution_count": null,
   "id": "aaca2899",
   "metadata": {},
   "outputs": [],
   "source": []
  }
 ],
 "metadata": {
  "kernelspec": {
   "display_name": "Python 3 (ipykernel)",
   "language": "python",
   "name": "python3"
  },
  "language_info": {
   "codemirror_mode": {
    "name": "ipython",
    "version": 3
   },
   "file_extension": ".py",
   "mimetype": "text/x-python",
   "name": "python",
   "nbconvert_exporter": "python",
   "pygments_lexer": "ipython3",
   "version": "3.10.9"
  }
 },
 "nbformat": 4,
 "nbformat_minor": 5
}
