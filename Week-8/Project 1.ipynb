{
 "cells": [
  {
   "cell_type": "code",
   "execution_count": null,
   "id": "51466362",
   "metadata": {},
   "outputs": [],
   "source": [
    "class Employee:\n",
    "    employees = [\"Mary Evans\", \"Eyo Ishan\", \"Durojaiye Dare\", \n",
    "    \"Adams Ali\", \"Andrew Ugwu\", \"Stella Mankinde\", \"Jane Akibo\",\n",
    "    \"Ago James\", \"Michell Taiwo\", \"Abraham Jones\" , \"Nicole Anide\",\n",
    "    \"Kosi Korso\",\n",
    "    \"Adele Martins\", \"Emmanuel Ojo\", \"Ajayi Fatima\"]\n",
    "    \n",
    "    def check_employee(self):\n",
    "        cheem = input(\"Enter your Full Name\")\n",
    "    def take_attendance(self):\n",
    "        print(\"ATTENDANCE TAKEN\")\n",
    "        \n",
    "    def assign_task(self):\n",
    "        random.randint()\n",
    "        \n",
    "        \n",
    "        "
   ]
  }
 ],
 "metadata": {
  "kernelspec": {
   "display_name": "Python 3 (ipykernel)",
   "language": "python",
   "name": "python3"
  },
  "language_info": {
   "codemirror_mode": {
    "name": "ipython",
    "version": 3
   },
   "file_extension": ".py",
   "mimetype": "text/x-python",
   "name": "python",
   "nbconvert_exporter": "python",
   "pygments_lexer": "ipython3",
   "version": "3.10.9"
  }
 },
 "nbformat": 4,
 "nbformat_minor": 5
}
