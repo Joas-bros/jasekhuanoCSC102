{
 "cells": [
  {
   "cell_type": "code",
   "execution_count": 2,
   "id": "4e855d1d",
   "metadata": {},
   "outputs": [
    {
     "name": "stdout",
     "output_type": "stream",
     "text": [
      "Enter your name: Mary Evans\n",
      "Mary Evans is present for the day.\n",
      "Mary Evans, your task for today is: Loading.\n",
      "Mary Evans, you do not have access to the system.\n"
     ]
    }
   ],
   "source": [
    "import random\n",
    "\n",
    "class Employee:\n",
    "    def __init__(self, name, employees_list):\n",
    "        self.name = name\n",
    "        self.employees_list = employees_list\n",
    "\n",
    "    def check_employee(self):\n",
    "        if self.name in self.employees_list:\n",
    "            return True\n",
    "        else:\n",
    "            return False\n",
    "\n",
    "    def take_attendance(self):\n",
    "        if self.check_employee():\n",
    "            print(f\"{self.name} is present for the day.\")\n",
    "        else:\n",
    "            print(f\"{self.name} is not an employee here.\")\n",
    "\n",
    "    def assign_task(self):\n",
    "        if self.check_employee():\n",
    "            task = random.choice([\"Loading\", \"Transporting\", \"Reviewing Orders\", \"Customer Service\", \"Delivering Items\"])\n",
    "            print(f\"{self.name}, your task for today is: {task}.\")\n",
    "        else:\n",
    "            print(f\"{self.name} is not an employee here.\")\n",
    "\n",
    "    def refuse_access(self):\n",
    "        print(f\"{self.name}, you do not have access to the system.\")\n",
    "\n",
    "# list of employees\n",
    "employees = [\"Mary Evans\", \"Eyo Ishan\", \"Durojaiye Dare\", \"Adams Ali\", \"Andrew Ugwu\", \"Stella Mankinde\", \"Jane Akibo\", \"Ago James\", \"Michell Taiwo\", \"Abraham Jones\" , \"Nicole Anide\", \"Kosi Korso\", \"Adele Martins\", \"Emmanuel Ojo\", \"Ajayi Fatima\"]\n",
    "\n",
    "# taking user input for employee name\n",
    "employee_name = input(\"Enter your name: \")\n",
    "\n",
    "# creating an instance of Employee class\n",
    "employee = Employee(employee_name, employees)\n",
    "\n",
    "# calling the methods\n",
    "employee.take_attendance()\n",
    "employee.assign_task()\n",
    "employee.refuse_access()\n"
   ]
  },
  {
   "cell_type": "code",
   "execution_count": null,
   "id": "0d1184bb",
   "metadata": {},
   "outputs": [],
   "source": []
  },
  {
   "cell_type": "code",
   "execution_count": null,
   "id": "4598ea6b",
   "metadata": {},
   "outputs": [],
   "source": [
    "Mary "
   ]
  }
 ],
 "metadata": {
  "kernelspec": {
   "display_name": "Python 3 (ipykernel)",
   "language": "python",
   "name": "python3"
  },
  "language_info": {
   "codemirror_mode": {
    "name": "ipython",
    "version": 3
   },
   "file_extension": ".py",
   "mimetype": "text/x-python",
   "name": "python",
   "nbconvert_exporter": "python",
   "pygments_lexer": "ipython3",
   "version": "3.10.9"
  }
 },
 "nbformat": 4,
 "nbformat_minor": 5
}
